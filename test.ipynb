{
 "cells": [
  {
   "cell_type": "code",
   "execution_count": 5,
   "metadata": {},
   "outputs": [
    {
     "name": "stdout",
     "output_type": "stream",
     "text": [
      "The autoreload extension is already loaded. To reload it, use:\n",
      "  %reload_ext autoreload\n"
     ]
    }
   ],
   "source": [
    "import warnings\n",
    "warnings.filterwarnings('ignore')\n",
    "\n",
    "%load_ext autoreload\n",
    "%autoreload 2"
   ]
  },
  {
   "cell_type": "code",
   "execution_count": 6,
   "metadata": {},
   "outputs": [],
   "source": [
    "import DataPreprocessor as dp\n",
    "import numpy as np\n",
    "import pandas as pd\n",
    "\n",
    "from models import Sklearn_Classifier\n",
    "from sklearn.ensemble import RandomForestClassifier"
   ]
  },
  {
   "cell_type": "code",
   "execution_count": null,
   "metadata": {},
   "outputs": [],
   "source": []
  },
  {
   "cell_type": "code",
   "execution_count": 7,
   "metadata": {},
   "outputs": [
    {
     "name": "stdout",
     "output_type": "stream",
     "text": [
      "Training Matrix: (800, 20)\n",
      "Training labels: (800,)\n",
      "Test Matrix: (200, 20)\n",
      "Test labels (200,)\n"
     ]
    }
   ],
   "source": [
    "model = Sklearn_Classifier(sklearn_classifier=RandomForestClassifier(criterion=\"log_loss\", class_weight=\"balanced_subsample\", max_depth=10, n_estimators=150, min_samples_split=4))\n",
    "# Data Generation\n",
    "sample_size = 1000\n",
    "train_size = 0.8\n",
    "train_sample_size = int(sample_size*train_size)\n",
    "feature_size = 20\n",
    "X = np.random.random((sample_size, feature_size))\n",
    "y = np.random.choice([0, 1], size=sample_size)\n",
    "# Train Test Split\n",
    "X_train = X[:train_sample_size, :]\n",
    "y_train = y[:train_sample_size]\n",
    "X_test = X[train_sample_size:, :]\n",
    "y_test = y[train_sample_size:]\n",
    "print(f\"Training Matrix: {X_train.shape}\")\n",
    "print(f\"Training labels: {y_train.shape}\")\n",
    "print(f\"Test Matrix: {X_test.shape}\")\n",
    "print(f\"Test labels {y_test.shape}\")"
   ]
  },
  {
   "cell_type": "code",
   "execution_count": 8,
   "metadata": {},
   "outputs": [
    {
     "name": "stdout",
     "output_type": "stream",
     "text": [
      "F1-score macro: 0.4799479947994799\n",
      "Accuracy: 0.48\n"
     ]
    },
    {
     "data": {
      "image/png": "[encoded data removed]",
      "text/plain": [
       "<Figure size 640x480 with 2 Axes>"
      ]
     },
     "metadata": {},
     "output_type": "display_data"
    }
   ],
   "source": [
    "model.train_test(X_train=X_train, y_train=y_train, X_test=X_test, y_test=y_test) "
   ]
  },
  {
   "cell_type": "code",
   "execution_count": 114,
   "metadata": {},
   "outputs": [
    {
     "name": "stdout",
     "output_type": "stream",
     "text": [
      "(21364, 28)\n",
      "(21364,)\n"
     ]
    }
   ],
   "source": [
    "# Örnek kullanım:\n",
    "interval = '1h'\n",
    "start_date = \"01 Jan, 2021\"\n",
    "end_date = \"10 Jun, 2024\"\n",
    "X, y = dp.get_historical_data(interval, start_date, end_date) # problem, X is df but y is np\n",
    "feature_names = X.columns.tolist()\n",
    "X = X.to_numpy()\n",
    "print(X.shape)\n",
    "print(y.shape)"
   ]
  },
  {
   "cell_type": "markdown",
   "metadata": {},
   "source": [
    "Ugur's data"
   ]
  },
  {
   "cell_type": "code",
   "execution_count": 118,
   "metadata": {},
   "outputs": [
    {
     "ename": "AttributeError",
     "evalue": "'numpy.ndarray' object has no attribute 'corr'",
     "output_type": "error",
     "traceback": [
      "\u001b[1;31m---------------------------------------------------------------------------\u001b[0m",
      "\u001b[1;31mAttributeError\u001b[0m                            Traceback (most recent call last)",
      "Cell \u001b[1;32mIn[118], line 45\u001b[0m\n\u001b[0;32m     39\u001b[0m     \u001b[38;5;28mprint\u001b[39m(corr_matrix)\n\u001b[0;32m     41\u001b[0m \u001b[38;5;66;03m# y'nin dağılımını çiz\u001b[39;00m\n\u001b[0;32m     42\u001b[0m \u001b[38;5;66;03m#plot_y_distribution(y)\u001b[39;00m\n\u001b[0;32m     43\u001b[0m \n\u001b[0;32m     44\u001b[0m \u001b[38;5;66;03m# x'in korelasyon matrisini çiz\u001b[39;00m\n\u001b[1;32m---> 45\u001b[0m \u001b[43mplot_and_print_correlation_matrix\u001b[49m\u001b[43m(\u001b[49m\u001b[43mX\u001b[49m\u001b[43m)\u001b[49m\n",
      "Cell \u001b[1;32mIn[118], line 32\u001b[0m, in \u001b[0;36mplot_and_print_correlation_matrix\u001b[1;34m(x)\u001b[0m\n\u001b[0;32m     30\u001b[0m \u001b[38;5;28;01mdef\u001b[39;00m \u001b[38;5;21mplot_and_print_correlation_matrix\u001b[39m(x):\n\u001b[0;32m     31\u001b[0m     plt\u001b[38;5;241m.\u001b[39mfigure(figsize\u001b[38;5;241m=\u001b[39m(\u001b[38;5;241m16\u001b[39m, \u001b[38;5;241m12\u001b[39m))\n\u001b[1;32m---> 32\u001b[0m     corr_matrix \u001b[38;5;241m=\u001b[39m \u001b[43mx\u001b[49m\u001b[38;5;241;43m.\u001b[39;49m\u001b[43mcorr\u001b[49m()\n\u001b[0;32m     33\u001b[0m     sns\u001b[38;5;241m.\u001b[39mheatmap(corr_matrix, annot\u001b[38;5;241m=\u001b[39m\u001b[38;5;28;01mTrue\u001b[39;00m, cmap\u001b[38;5;241m=\u001b[39m\u001b[38;5;124m'\u001b[39m\u001b[38;5;124mcoolwarm\u001b[39m\u001b[38;5;124m'\u001b[39m, fmt\u001b[38;5;241m=\u001b[39m\u001b[38;5;124m'\u001b[39m\u001b[38;5;124m.2f\u001b[39m\u001b[38;5;124m'\u001b[39m)\n\u001b[0;32m     34\u001b[0m     plt\u001b[38;5;241m.\u001b[39mtitle(\u001b[38;5;124m\"\u001b[39m\u001b[38;5;124mCorrelation Matrix of Features\u001b[39m\u001b[38;5;124m\"\u001b[39m)\n",
      "\u001b[1;31mAttributeError\u001b[0m: 'numpy.ndarray' object has no attribute 'corr'"
     ]
    },
    {
     "data": {
      "text/plain": [
       "<Figure size 1600x1200 with 0 Axes>"
      ]
     },
     "metadata": {},
     "output_type": "display_data"
    }
   ],
   "source": [
    "import matplotlib.pyplot as plt\n",
    "import seaborn as sns\n",
    "import pandas as pd\n",
    "import numpy as np\n",
    "\n",
    "# y'nin dağılımını çizme\n",
    "def plot_y_distribution(y):\n",
    "    plt.figure(figsize=(8, 6))\n",
    "    sns.countplot(x=y)\n",
    "    plt.title(\"Distribution of Target Variable (y)\")\n",
    "    plt.xlabel(\"Class\")\n",
    "    plt.ylabel(\"Count\")\n",
    "    plt.show()\n",
    "\n",
    "def plot_and_save_correlation_matrix(x):\n",
    "    plt.figure(figsize=(16, 12))\n",
    "    corr_matrix = x.corr()\n",
    "    sns.heatmap(corr_matrix, annot=True, cmap='coolwarm', fmt='.2f')\n",
    "    plt.title(\"Correlation Matrix of Features\")\n",
    "    plt.show()\n",
    "    \n",
    "    # Korelasyon matrisini yazdırma\n",
    "    print(\"Correlation Matrix:\")\n",
    "    print(corr_matrix)\n",
    "    \n",
    "    # Korelasyon matrisini dosyaya kaydetme\n",
    "    with open('correlation_matrix.txt', 'w') as f:\n",
    "        f.write(corr_matrix.to_string())\n",
    "\n",
    "def plot_and_print_correlation_matrix(x):\n",
    "    plt.figure(figsize=(16, 12))\n",
    "    corr_matrix = x.corr()\n",
    "    sns.heatmap(corr_matrix, annot=True, cmap='coolwarm', fmt='.2f')\n",
    "    plt.title(\"Correlation Matrix of Features\")\n",
    "    plt.show()\n",
    "    \n",
    "    # Korelasyon matrisini yazdırma\n",
    "    print(\"Correlation Matrix:\")\n",
    "    print(corr_matrix)\n",
    "\n",
    "# y'nin dağılımını çiz\n",
    "#plot_y_distribution(y)\n",
    "\n",
    "# x'in korelasyon matrisini çiz\n",
    "plot_and_print_correlation_matrix(X)\n"
   ]
  },
  {
   "cell_type": "code",
   "execution_count": 119,
   "metadata": {},
   "outputs": [
    {
     "name": "stdout",
     "output_type": "stream",
     "text": [
      "Training Matrix: (17091, 28)\n",
      "Training labels: (17091,)\n",
      "Test Matrix: (4273, 28)\n",
      "Test labels (4273,)\n"
     ]
    }
   ],
   "source": [
    "# Train Test Split\n",
    "train_size = 0.8\n",
    "train_sample_size = int(X.shape[0]*train_size)\n",
    "X_train = X[:train_sample_size, :]\n",
    "y_train = y[:train_sample_size]\n",
    "X_test = X[train_sample_size:, :]\n",
    "y_test = y[train_sample_size:]\n",
    "\n",
    "print(f\"Training Matrix: {X_train.shape}\")\n",
    "print(f\"Training labels: {y_train.shape}\")\n",
    "print(f\"Test Matrix: {X_test.shape}\")\n",
    "print(f\"Test labels {y_test.shape}\")\n"
   ]
  },
  {
   "cell_type": "code",
   "execution_count": 121,
   "metadata": {},
   "outputs": [
    {
     "name": "stdout",
     "output_type": "stream",
     "text": [
      "Accuracy: 0.5764100163819331\n",
      "Classification Report: \n",
      "              precision    recall  f1-score   support\n",
      "\n",
      "           0       0.55      0.23      0.33      1887\n",
      "           1       0.58      0.85      0.69      2386\n",
      "\n",
      "    accuracy                           0.58      4273\n",
      "   macro avg       0.57      0.54      0.51      4273\n",
      "weighted avg       0.57      0.58      0.53      4273\n",
      "\n"
     ]
    },
    {
     "ename": "AttributeError",
     "evalue": "'numpy.ndarray' object has no attribute 'columns'",
     "output_type": "error",
     "traceback": [
      "\u001b[1;31m---------------------------------------------------------------------------\u001b[0m",
      "\u001b[1;31mAttributeError\u001b[0m                            Traceback (most recent call last)",
      "Cell \u001b[1;32mIn[121], line 29\u001b[0m\n\u001b[0;32m     27\u001b[0m \u001b[38;5;66;03m#Seçilen özelliklerin indekslerini ve isimlerini alma\u001b[39;00m\n\u001b[0;32m     28\u001b[0m selected_features \u001b[38;5;241m=\u001b[39m selector\u001b[38;5;241m.\u001b[39mget_support(indices\u001b[38;5;241m=\u001b[39m\u001b[38;5;28;01mTrue\u001b[39;00m)\n\u001b[1;32m---> 29\u001b[0m selected_feature_names \u001b[38;5;241m=\u001b[39m \u001b[43mX\u001b[49m\u001b[38;5;241;43m.\u001b[39;49m\u001b[43mcolumns\u001b[49m[selected_features]\n\u001b[0;32m     30\u001b[0m \u001b[38;5;28mprint\u001b[39m(\u001b[38;5;124m\"\u001b[39m\u001b[38;5;124mSelected Features:\u001b[39m\u001b[38;5;124m\"\u001b[39m, selected_feature_names)\n",
      "\u001b[1;31mAttributeError\u001b[0m: 'numpy.ndarray' object has no attribute 'columns'"
     ]
    }
   ],
   "source": [
    "from sklearn.feature_selection import SelectKBest, f_classif\n",
    "from sklearn.ensemble import RandomForestClassifier\n",
    "from sklearn.pipeline import Pipeline\n",
    "from sklearn.feature_selection import RFE\n",
    "import numpy as np\n",
    "\n",
    "k = 11  # Seçmek istediğiniz en iyi özellik sayısı\n",
    "selector = SelectKBest(score_func=f_classif, k=k)  \n",
    "#estimator = RandomForestClassifier()\n",
    "#selector = RFE(estimator, n_features_to_select=k, step=1)\n",
    "\n",
    "# Model pipeline oluşturma\n",
    "pipeline = Pipeline([\n",
    "    ('feature_selection', selector),\n",
    "    ('classification', RandomForestClassifier(criterion=\"log_loss\", class_weight=\"balanced_subsample\", max_depth=10, n_estimators=500, min_samples_split=4))\n",
    "])\n",
    "\n",
    "# Modeli eğitmef\n",
    "pipeline.fit(X_train, y_train)\n",
    "y_pred = pipeline.predict(X_test)\n",
    "\n",
    "# Model performansını değerlendirme\n",
    "from sklearn.metrics import accuracy_score, classification_report\n",
    "print(f\"Accuracy: {accuracy_score(y_test, y_pred)}\")\n",
    "print(f\"Classification Report: \\n{classification_report(y_test, y_pred)}\")\n",
    "\n",
    "selected_features = selector.get_support(indices=True)\n",
    "selected_feature_names = [feature_names[i] for i in selected_features]\n",
    "print(\"Selected Features:\", selected_feature_names)\n"
   ]
  },
  {
   "cell_type": "code",
   "execution_count": 77,
   "metadata": {},
   "outputs": [
    {
     "name": "stdout",
     "output_type": "stream",
     "text": [
      "F1-score macro: 0.5456985835434375\n",
      "Accuracy: 0.548326702550901\n"
     ]
    },
    {
     "data": {
      "image/png": "[encoded data removed]",
      "text/plain": [
       "<Figure size 640x480 with 2 Axes>"
      ]
     },
     "metadata": {},
     "output_type": "display_data"
    }
   ],
   "source": [
    "model = Sklearn_Classifier(sklearn_classifier=RandomForestClassifier(criterion=\"log_loss\", class_weight=\"balanced_subsample\", max_depth=10, n_estimators=500, min_samples_split=4))\n",
    "model.train_test(X_train=X_train, y_train=y_train, X_test=X_test, y_test=y_test) "
   ]
  },
  {
   "cell_type": "code",
   "execution_count": null,
   "metadata": {},
   "outputs": [
    {
     "ename": "",
     "evalue": "",
     "output_type": "error",
     "traceback": [
      "\u001b[1;31mRunning cells with 'venv (Python 3.12.1)' requires the ipykernel package.\n",
      "\u001b[1;31mRun the following command to install 'ipykernel' into the Python environment. \n",
      "\u001b[1;31mCommand: 'c:/Users/uguro/OneDrive/Belgeler/github_repos/CryptoAi/venv/Scripts/python.exe -m pip install ipykernel -U --force-reinstall'"
     ]
    }
   ],
   "source": []
  }
 ],
 "metadata": {
  "kernelspec": {
   "display_name": "venv",
   "language": "python",
   "name": "python3"
  },
  "language_info": {
   "codemirror_mode": {
    "name": "ipython",
    "version": 3
   },
   "file_extension": ".py",
   "mimetype": "text/x-python",
   "name": "python",
   "nbconvert_exporter": "python",
   "pygments_lexer": "ipython3",
   "version": "3.12.1"
  }
 },
 "nbformat": 4,
 "nbformat_minor": 2
}
