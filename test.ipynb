{
 "cells": [
  {
   "cell_type": "code",
   "execution_count": 2,
   "metadata": {},
   "outputs": [],
   "source": [
    "import warnings\n",
    "warnings.filterwarnings('ignore')\n",
    "\n",
    "%load_ext autoreload\n",
    "%autoreload 2"
   ]
  },
  {
   "cell_type": "code",
   "execution_count": 3,
   "metadata": {},
   "outputs": [],
   "source": [
    "import DataPreprocessor as dp\n",
    "import numpy as np\n",
    "import pandas as pd\n",
    "import torch\n",
    "\n",
    "from models import Sklearn_Classifier, ACNN, train_test\n",
    "from sklearn.ensemble import RandomForestClassifier"
   ]
  },
  {
   "cell_type": "code",
   "execution_count": 3,
   "metadata": {},
   "outputs": [
    {
     "name": "stdout",
     "output_type": "stream",
     "text": [
      "Training Matrix: (800, 20)\n",
      "Training labels: (800,)\n",
      "Test Matrix: (200, 20)\n",
      "Test labels (200,)\n"
     ]
    }
   ],
   "source": [
    "model = Sklearn_Classifier(sklearn_classifier=RandomForestClassifier(criterion=\"log_loss\", class_weight=\"balanced_subsample\", max_depth=10, n_estimators=150, min_samples_split=4))\n",
    "# Data Generation\n",
    "sample_size = 1000\n",
    "train_size = 0.8\n",
    "train_sample_size = int(sample_size*train_size)\n",
    "feature_size = 20\n",
    "X = np.random.random((sample_size, feature_size))\n",
    "y = np.random.choice([0, 1], size=sample_size)\n",
    "# Train Test Split\n",
    "X_train = X[:train_sample_size, :]\n",
    "y_train = y[:train_sample_size]\n",
    "X_test = X[train_sample_size:, :]\n",
    "y_test = y[train_sample_size:]\n",
    "print(f\"Training Matrix: {X_train.shape}\")\n",
    "print(f\"Training labels: {y_train.shape}\")\n",
    "print(f\"Test Matrix: {X_test.shape}\")\n",
    "print(f\"Test labels {y_test.shape}\")"
   ]
  },
  {
   "cell_type": "code",
   "execution_count": null,
   "metadata": {},
   "outputs": [],
   "source": [
    "model.train_test(X_train=X_train, y_train=y_train, X_test=X_test, y_test=y_test) "
   ]
  },
  {
   "cell_type": "markdown",
   "metadata": {},
   "source": [
    "Ugur's data"
   ]
  },
  {
   "cell_type": "code",
   "execution_count": 25,
   "metadata": {},
   "outputs": [
    {
     "name": "stdout",
     "output_type": "stream",
     "text": [
      "(30738, 20)\n",
      "(30738,)\n",
      "Training Matrix: (24590, 20)\n",
      "Training labels: (24590,)\n",
      "Test Matrix: (6148, 20)\n",
      "Test labels (6148,)\n"
     ]
    }
   ],
   "source": [
    "# Örnek kullanım:\n",
    "interval = '1h'\n",
    "start_date = \"01 Jan, 2020\"\n",
    "end_date = \"10 Jul, 2023\"\n",
    "X, y = dp.get_data(interval, start_date, end_date) # problem, X is df but y is np\n",
    "X = X.to_numpy()\n",
    "print(X.shape)\n",
    "print(y.shape)\n",
    "\n",
    "# Train Test Split\n",
    "train_size = 0.8\n",
    "train_sample_size = int(X.shape[0]*train_size)\n",
    "X_train = X[:train_sample_size, :]\n",
    "y_train = y[:train_sample_size]\n",
    "X_test = X[train_sample_size:, :]\n",
    "y_test = y[train_sample_size:]\n",
    "print(f\"Training Matrix: {X_train.shape}\")\n",
    "print(f\"Training labels: {y_train.shape}\")\n",
    "print(f\"Test Matrix: {X_test.shape}\")\n",
    "print(f\"Test labels {y_test.shape}\")"
   ]
  },
  {
   "cell_type": "code",
   "execution_count": null,
   "metadata": {},
   "outputs": [],
   "source": [
    "model = Sklearn_Classifier(sklearn_classifier=RandomForestClassifier(criterion=\"log_loss\", class_weight=\"balanced_subsample\", max_depth=10, n_estimators=150, min_samples_split=4))\n",
    "model.train_test(X_train=X_train, y_train=y_train, X_test=X_test, y_test=y_test) "
   ]
  },
  {
   "cell_type": "code",
   "execution_count": 27,
   "metadata": {},
   "outputs": [
    {
     "name": "stdout",
     "output_type": "stream",
     "text": [
      "torch.Size([24590, 20, 1])\n",
      "torch.Size([6148, 20, 1])\n"
     ]
    }
   ],
   "source": [
    "X_train = torch.from_numpy(X_train.astype('float64')).unsqueeze_(2)\n",
    "X_test = torch.from_numpy(X_test.astype('float64')).unsqueeze_(2)\n",
    "print(X_train.shape)\n",
    "print(X_test.shape)"
   ]
  },
  {
   "cell_type": "code",
   "execution_count": 28,
   "metadata": {},
   "outputs": [
    {
     "name": "stdout",
     "output_type": "stream",
     "text": [
      "Start model training\n"
     ]
    },
    {
     "name": "stderr",
     "output_type": "stream",
     "text": [
      "  1%|          | 1/100 [00:02<04:44,  2.88s/it]"
     ]
    },
    {
     "name": "stdout",
     "output_type": "stream",
     "text": [
      "Epoch:   1. Loss: 20590711.9896. Acc.: 44.50%\n",
      "Epoch 1 best model reached with accuracy: 44.50%\n"
     ]
    },
    {
     "name": "stderr",
     "output_type": "stream",
     "text": [
      "  2%|▏         | 2/100 [00:05<04:01,  2.46s/it]"
     ]
    },
    {
     "name": "stdout",
     "output_type": "stream",
     "text": [
      "Epoch:   2. Loss: 3591848.4883. Acc.: 55.50%\n",
      "Epoch 2 best model reached with accuracy: 55.50%\n"
     ]
    },
    {
     "name": "stderr",
     "output_type": "stream",
     "text": [
      "  4%|▍         | 4/100 [00:09<03:40,  2.30s/it]"
     ]
    },
    {
     "name": "stdout",
     "output_type": "stream",
     "text": [
      "Epoch:   4. Loss: 644116.9696. Acc.: 44.52%\n"
     ]
    },
    {
     "name": "stderr",
     "output_type": "stream",
     "text": [
      "  8%|▊         | 8/100 [00:17<03:20,  2.18s/it]"
     ]
    },
    {
     "name": "stdout",
     "output_type": "stream",
     "text": [
      "Epoch:   8. Loss: 2889.2590. Acc.: 45.90%\n"
     ]
    },
    {
     "name": "stderr",
     "output_type": "stream",
     "text": [
      " 14%|█▍        | 14/100 [00:29<02:52,  2.00s/it]"
     ]
    },
    {
     "name": "stdout",
     "output_type": "stream",
     "text": [
      "Epoch 14 best model reached with accuracy: 55.99%\n"
     ]
    },
    {
     "name": "stderr",
     "output_type": "stream",
     "text": [
      " 16%|█▌        | 16/100 [00:34<02:51,  2.04s/it]"
     ]
    },
    {
     "name": "stdout",
     "output_type": "stream",
     "text": [
      "Epoch:  16. Loss: 60.1787. Acc.: 57.14%\n",
      "Epoch 16 best model reached with accuracy: 57.14%\n"
     ]
    },
    {
     "name": "stderr",
     "output_type": "stream",
     "text": [
      " 19%|█▉        | 19/100 [00:40<02:42,  2.01s/it]"
     ]
    },
    {
     "name": "stdout",
     "output_type": "stream",
     "text": [
      "Epoch 19 best model reached with accuracy: 59.27%\n"
     ]
    },
    {
     "name": "stderr",
     "output_type": "stream",
     "text": [
      " 20%|██        | 20/100 [00:42<02:40,  2.01s/it]"
     ]
    },
    {
     "name": "stdout",
     "output_type": "stream",
     "text": [
      "Epoch 20 best model reached with accuracy: 59.92%\n"
     ]
    },
    {
     "name": "stderr",
     "output_type": "stream",
     "text": [
      " 21%|██        | 21/100 [00:45<03:01,  2.29s/it]"
     ]
    },
    {
     "name": "stdout",
     "output_type": "stream",
     "text": [
      "Epoch 21 best model reached with accuracy: 60.02%\n"
     ]
    },
    {
     "name": "stderr",
     "output_type": "stream",
     "text": [
      " 32%|███▏      | 32/100 [01:07<02:17,  2.03s/it]"
     ]
    },
    {
     "name": "stdout",
     "output_type": "stream",
     "text": [
      "Epoch:  32. Loss: 285.6841. Acc.: 57.30%\n"
     ]
    },
    {
     "name": "stderr",
     "output_type": "stream",
     "text": [
      " 64%|██████▍   | 64/100 [02:11<01:08,  1.91s/it]"
     ]
    },
    {
     "name": "stdout",
     "output_type": "stream",
     "text": [
      "Epoch:  64. Loss: 48.8216. Acc.: 51.07%\n"
     ]
    },
    {
     "name": "stderr",
     "output_type": "stream",
     "text": [
      " 84%|████████▍ | 84/100 [02:50<00:30,  1.92s/it]"
     ]
    },
    {
     "name": "stdout",
     "output_type": "stream",
     "text": [
      "Epoch 84 best model reached with accuracy: 60.20%\n"
     ]
    },
    {
     "name": "stderr",
     "output_type": "stream",
     "text": [
      "100%|██████████| 100/100 [03:21<00:00,  2.02s/it]"
     ]
    },
    {
     "name": "stdout",
     "output_type": "stream",
     "text": [
      "Done!\n"
     ]
    },
    {
     "name": "stderr",
     "output_type": "stream",
     "text": [
      "\n"
     ]
    }
   ],
   "source": [
    "model = ACNN(in_channels=20, out_channels=1, att_channels=1, n_len_seg=1, n_classes=2)\n",
    "trn_ds = torch.utils.data.TensorDataset(\n",
    "        torch.tensor(X_train).float(),\n",
    "        torch.tensor(y_train.astype(int)))\n",
    "val_ds = torch.utils.data.TensorDataset(\n",
    "    torch.tensor(X_test).float(),\n",
    "    torch.tensor(y_test.astype(int)))\n",
    "train_dl = torch.utils.data.DataLoader(trn_ds, batch_size=64, shuffle=True, num_workers=0)\n",
    "val_dl = torch.utils.data.DataLoader(val_ds, batch_size=64, shuffle=True, num_workers=0)\n",
    "train_test(train_dl=train_dl, val_dl=val_dl, model=model)"
   ]
  }
 ],
 "metadata": {
  "kernelspec": {
   "display_name": "venv",
   "language": "python",
   "name": "python3"
  },
  "language_info": {
   "codemirror_mode": {
    "name": "ipython",
    "version": 3
   },
   "file_extension": ".py",
   "mimetype": "text/x-python",
   "name": "python",
   "nbconvert_exporter": "python",
   "pygments_lexer": "ipython3",
   "version": "3.8.10"
  }
 },
 "nbformat": 4,
 "nbformat_minor": 2
}
