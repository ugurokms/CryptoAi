{
 "cells": [
  {
   "cell_type": "code",
   "execution_count": 1,
   "metadata": {},
   "outputs": [],
   "source": [
    "import warnings\n",
    "warnings.filterwarnings('ignore')\n",
    "\n",
    "%load_ext autoreload\n",
    "%autoreload 2"
   ]
  },
  {
   "cell_type": "code",
   "execution_count": 2,
   "metadata": {},
   "outputs": [],
   "source": [
    "import DataPreprocessor as dp\n",
    "import numpy as np\n",
    "from models import Sklearn_Classifier\n",
    "from sklearn.ensemble import RandomForestClassifier"
   ]
  },
  {
   "cell_type": "code",
   "execution_count": 16,
   "metadata": {},
   "outputs": [
    {
     "name": "stdout",
     "output_type": "stream",
     "text": [
      "(826, 20)\n",
      "(920,)\n"
     ]
    }
   ],
   "source": [
    "# Örnek kullanım:\n",
    "interval = '1d'\n",
    "start_date = \"01 Jan, 2021\"\n",
    "end_date = \"10 Jul, 2023\"\n",
    "x, y = dp.get_data(interval, start_date, end_date)\n",
    "print(x.shape)\n",
    "print(y.shape)"
   ]
  },
  {
   "cell_type": "code",
   "execution_count": 3,
   "metadata": {},
   "outputs": [
    {
     "name": "stdout",
     "output_type": "stream",
     "text": [
      "Training Matrix: (800, 20)\n",
      "Training labels: (800,)\n",
      "Test Matrix: (200, 20)\n",
      "Test labels (200,)\n"
     ]
    }
   ],
   "source": [
    "model = Sklearn_Classifier(sklearn_classifier=RandomForestClassifier(criterion=\"log_loss\", class_weight=\"balanced_subsample\", max_depth=10, n_estimators=150, min_samples_split=4))\n",
    "# Data Generation\n",
    "sample_size = 1000\n",
    "train_size = 0.8\n",
    "train_sample_size = int(sample_size*train_size)\n",
    "feature_size = 20\n",
    "X = np.random.random((sample_size, feature_size))\n",
    "y = np.random.choice([0, 1], size=sample_size)\n",
    "# Train Test Split\n",
    "X_train = X[:train_sample_size, :]\n",
    "y_train = y[:train_sample_size]\n",
    "X_test = X[train_sample_size:, :]\n",
    "y_test = y[train_sample_size:]\n",
    "print(f\"Training Matrix: {X_train.shape}\")\n",
    "print(f\"Training labels: {y_train.shape}\")\n",
    "print(f\"Test Matrix: {X_test.shape}\")\n",
    "print(f\"Test labels {y_test.shape}\")"
   ]
  },
  {
   "cell_type": "code",
   "execution_count": 4,
   "metadata": {},
   "outputs": [
    {
     "name": "stdout",
     "output_type": "stream",
     "text": [
      "F1-score: 0.505\n",
      "Accuracy: 0.505\n"
     ]
    }
   ],
   "source": [
    "model.train_test(X_train=X_train, y_train=y_train, X_test=X_test, y_test=y_test) "
   ]
  },
  {
   "cell_type": "code",
   "execution_count": null,
   "metadata": {},
   "outputs": [],
   "source": []
  }
 ],
 "metadata": {
  "kernelspec": {
   "display_name": "venv",
   "language": "python",
   "name": "python3"
  },
  "language_info": {
   "codemirror_mode": {
    "name": "ipython",
    "version": 3
   },
   "file_extension": ".py",
   "mimetype": "text/x-python",
   "name": "python",
   "nbconvert_exporter": "python",
   "pygments_lexer": "ipython3",
   "version": "3.8.10"
  }
 },
 "nbformat": 4,
 "nbformat_minor": 2
}
